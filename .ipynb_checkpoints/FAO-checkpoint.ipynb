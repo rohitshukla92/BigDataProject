{
 "cells": [
  {
   "cell_type": "code",
   "execution_count": null,
   "metadata": {
    "collapsed": true
   },
   "outputs": [],
   "source": [
    "#importing CSV File and Reading it\n",
    "import pandas as pd\n",
    "import csv"
   ]
  },
  {
   "cell_type": "code",
   "execution_count": null,
   "metadata": {
    "collapsed": true
   },
   "outputs": [],
   "source": [
    "FAO_data = pd.read_csv(\"FoodBalanceSheets_E_All_Data.csv\", sep=',', encoding='latin-1')"
   ]
  },
  {
   "cell_type": "code",
   "execution_count": null,
   "metadata": {
    "collapsed": true
   },
   "outputs": [],
   "source": [
    "#Dropping Useless Columns\n",
    "FAO_data_col_drop=FAO_data.drop(['Area Code','Item Code','Element Code','Year Code','Flag'],axis=1)\n",
    "FAO_data_dup_drop=FAO_data_col_drop.drop_duplicates()"
   ]
  },
  {
   "cell_type": "code",
   "execution_count": null,
   "metadata": {
    "collapsed": true
   },
   "outputs": [],
   "source": [
    "FAO_data_group = FAO_data_dup_drop.groupby(['Area','Element','Year']).size().reset_index().rename(columns={0:'count'})"
   ]
  },
  {
   "cell_type": "code",
   "execution_count": null,
   "metadata": {
    "collapsed": true
   },
   "outputs": [],
   "source": [
    "FAO_data_group_drCount = FAO_data_group.drop('count',axis=1)"
   ]
  },
  {
   "cell_type": "code",
   "execution_count": null,
   "metadata": {
    "collapsed": true
   },
   "outputs": [],
   "source": [
    "l = []\n",
    "cnt = 0\n",
    "for index,row in FAO_data_group_drCount.iterrows():\n",
    "    cnt += 1\n",
    "    d = dict()\n",
    "    ds = FAO_data_dup_drop[(FAO_data_dup_drop['Area'] == row[0])]\n",
    "    ds1 = ds[ds['Element'] == row[1]]\n",
    "    ds2 = ds1[ds1['Year'] == row[2]]\n",
    "    d['Area'] = row[0]\n",
    "    d['Element'] = row[1]\n",
    "    d['Year'] = row[2]\n",
    "    d['Unit'] = ds2['Unit'].head(1).values[0]\n",
    "    for ind, r in ds2.iterrows():\n",
    "        d[r['Item']] = r['Value']\n",
    "    l.append(d)\n",
    "    if cnt%1000 == 0:\n",
    "        print(cnt, \" :done\")"
   ]
  },
  {
   "cell_type": "code",
   "execution_count": null,
   "metadata": {
    "collapsed": true
   },
   "outputs": [],
   "source": [
    "FA0_dataset = pd.DataFrame(l)"
   ]
  },
  {
   "cell_type": "code",
   "execution_count": null,
   "metadata": {
    "collapsed": true
   },
   "outputs": [],
   "source": [
    "FA0_dataset.to_csv(\"FA0_dataset.csv\", index = False)"
   ]
  }
 ],
 "metadata": {
  "kernelspec": {
   "display_name": "Python 3",
   "language": "python",
   "name": "python3"
  },
  "language_info": {
   "codemirror_mode": {
    "name": "ipython",
    "version": 3
   },
   "file_extension": ".py",
   "mimetype": "text/x-python",
   "name": "python",
   "nbconvert_exporter": "python",
   "pygments_lexer": "ipython3",
   "version": "3.6.1"
  }
 },
 "nbformat": 4,
 "nbformat_minor": 2
}
